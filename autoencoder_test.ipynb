{
 "cells": [
  {
   "cell_type": "code",
   "execution_count": 2,
   "metadata": {},
   "outputs": [
    {
     "ename": "KeyboardInterrupt",
     "evalue": "",
     "output_type": "error",
     "traceback": [
      "\u001b[1;31m---------------------------------------------------------------------------\u001b[0m",
      "\u001b[1;31mKeyboardInterrupt\u001b[0m                         Traceback (most recent call last)",
      "Cell \u001b[1;32mIn[2], line 5\u001b[0m\n\u001b[0;32m      3\u001b[0m \u001b[38;5;28;01mimport\u001b[39;00m \u001b[38;5;21;01mmatplotlib\u001b[39;00m\n\u001b[0;32m      4\u001b[0m cmap \u001b[38;5;241m=\u001b[39m matplotlib\u001b[38;5;241m.\u001b[39mcolormaps\u001b[38;5;241m.\u001b[39mget(\u001b[38;5;124m'\u001b[39m\u001b[38;5;124mtab10\u001b[39m\u001b[38;5;124m'\u001b[39m)\u001b[38;5;241m.\u001b[39mcolors\n\u001b[1;32m----> 5\u001b[0m \u001b[38;5;28;01mimport\u001b[39;00m \u001b[38;5;21;01mtorch\u001b[39;00m\n\u001b[0;32m      6\u001b[0m \u001b[38;5;28;01mimport\u001b[39;00m \u001b[38;5;21;01mtorch_geometric\u001b[39;00m \u001b[38;5;28;01mas\u001b[39;00m \u001b[38;5;21;01mtg\u001b[39;00m\n\u001b[0;32m      7\u001b[0m \u001b[38;5;28;01mfrom\u001b[39;00m \u001b[38;5;21;01mgen_autoencoder_dataset\u001b[39;00m \u001b[38;5;28;01mimport\u001b[39;00m AutoencoderDataset\n",
      "File \u001b[1;32mc:\\Users\\steph\\AppData\\Local\\Programs\\Python\\Python311\\Lib\\site-packages\\torch\\__init__.py:2486\u001b[0m\n\u001b[0;32m   2482\u001b[0m \u001b[38;5;28;01mfrom\u001b[39;00m \u001b[38;5;21;01mtorch\u001b[39;00m\u001b[38;5;21;01m.\u001b[39;00m\u001b[38;5;21;01mfunc\u001b[39;00m \u001b[38;5;28;01mimport\u001b[39;00m vmap \u001b[38;5;28;01mas\u001b[39;00m vmap\n\u001b[0;32m   2485\u001b[0m \u001b[38;5;28;01mif\u001b[39;00m \u001b[38;5;129;01mnot\u001b[39;00m TYPE_CHECKING:\n\u001b[1;32m-> 2486\u001b[0m     \u001b[38;5;28;01mfrom\u001b[39;00m \u001b[38;5;21;01mtorch\u001b[39;00m \u001b[38;5;28;01mimport\u001b[39;00m _meta_registrations\n\u001b[0;32m   2488\u001b[0m \u001b[38;5;66;03m# Enable CUDA Sanitizer\u001b[39;00m\n\u001b[0;32m   2489\u001b[0m \u001b[38;5;28;01mif\u001b[39;00m \u001b[38;5;124m\"\u001b[39m\u001b[38;5;124mTORCH_CUDA_SANITIZER\u001b[39m\u001b[38;5;124m\"\u001b[39m \u001b[38;5;129;01min\u001b[39;00m os\u001b[38;5;241m.\u001b[39menviron:\n",
      "File \u001b[1;32mc:\\Users\\steph\\AppData\\Local\\Programs\\Python\\Python311\\Lib\\site-packages\\torch\\_meta_registrations.py:10\u001b[0m\n\u001b[0;32m      8\u001b[0m \u001b[38;5;28;01mimport\u001b[39;00m \u001b[38;5;21;01mtorch\u001b[39;00m\u001b[38;5;21;01m.\u001b[39;00m\u001b[38;5;21;01m_prims_common\u001b[39;00m \u001b[38;5;28;01mas\u001b[39;00m \u001b[38;5;21;01mutils\u001b[39;00m\n\u001b[0;32m      9\u001b[0m \u001b[38;5;28;01mfrom\u001b[39;00m \u001b[38;5;21;01mtorch\u001b[39;00m \u001b[38;5;28;01mimport\u001b[39;00m SymBool, SymFloat, Tensor\n\u001b[1;32m---> 10\u001b[0m \u001b[38;5;28;01mfrom\u001b[39;00m \u001b[38;5;21;01mtorch\u001b[39;00m\u001b[38;5;21;01m.\u001b[39;00m\u001b[38;5;21;01m_decomp\u001b[39;00m \u001b[38;5;28;01mimport\u001b[39;00m (\n\u001b[0;32m     11\u001b[0m     _add_op_to_registry,\n\u001b[0;32m     12\u001b[0m     _convert_out_params,\n\u001b[0;32m     13\u001b[0m     global_decomposition_table,\n\u001b[0;32m     14\u001b[0m     meta_table,\n\u001b[0;32m     15\u001b[0m )\n\u001b[0;32m     16\u001b[0m \u001b[38;5;28;01mfrom\u001b[39;00m \u001b[38;5;21;01mtorch\u001b[39;00m\u001b[38;5;21;01m.\u001b[39;00m\u001b[38;5;21;01m_ops\u001b[39;00m \u001b[38;5;28;01mimport\u001b[39;00m OpOverload\n\u001b[0;32m     17\u001b[0m \u001b[38;5;28;01mfrom\u001b[39;00m \u001b[38;5;21;01mtorch\u001b[39;00m\u001b[38;5;21;01m.\u001b[39;00m\u001b[38;5;21;01m_prims\u001b[39;00m \u001b[38;5;28;01mimport\u001b[39;00m _prim_elementwise_meta, ELEMENTWISE_PRIM_TYPE_PROMOTION_KIND\n",
      "File \u001b[1;32mc:\\Users\\steph\\AppData\\Local\\Programs\\Python\\Python311\\Lib\\site-packages\\torch\\_decomp\\__init__.py:250\u001b[0m\n\u001b[0;32m    248\u001b[0m \u001b[38;5;66;03m# populate the table\u001b[39;00m\n\u001b[0;32m    249\u001b[0m \u001b[38;5;28;01mimport\u001b[39;00m \u001b[38;5;21;01mtorch\u001b[39;00m\u001b[38;5;21;01m.\u001b[39;00m\u001b[38;5;21;01m_decomp\u001b[39;00m\u001b[38;5;21;01m.\u001b[39;00m\u001b[38;5;21;01mdecompositions\u001b[39;00m\n\u001b[1;32m--> 250\u001b[0m \u001b[38;5;28;01mimport\u001b[39;00m \u001b[38;5;21;01mtorch\u001b[39;00m\u001b[38;5;21;01m.\u001b[39;00m\u001b[38;5;21;01m_refs\u001b[39;00m\n\u001b[0;32m    253\u001b[0m \u001b[38;5;66;03m# See NOTE [Core ATen Ops]\u001b[39;00m\n\u001b[0;32m    254\u001b[0m \u001b[38;5;66;03m#\u001b[39;00m\n\u001b[0;32m    255\u001b[0m \u001b[38;5;66;03m# list was copied from torch/_inductor/decomposition.py\u001b[39;00m\n\u001b[0;32m    256\u001b[0m \u001b[38;5;66;03m# excluding decompositions that results in prim ops\u001b[39;00m\n\u001b[0;32m    257\u001b[0m \u001b[38;5;66;03m# Resulting opset of decomposition is core aten ops\u001b[39;00m\n\u001b[0;32m    258\u001b[0m \u001b[38;5;28;01mdef\u001b[39;00m \u001b[38;5;21mcore_aten_decompositions\u001b[39m() \u001b[38;5;241m-\u001b[39m\u001b[38;5;241m>\u001b[39m Dict[torch\u001b[38;5;241m.\u001b[39m_ops\u001b[38;5;241m.\u001b[39mOperatorBase, Callable]:\n",
      "File \u001b[1;32mc:\\Users\\steph\\AppData\\Local\\Programs\\Python\\Python311\\Lib\\site-packages\\torch\\_refs\\__init__.py:5734\u001b[0m\n\u001b[0;32m   5730\u001b[0m rfloordiv \u001b[38;5;241m=\u001b[39m _make_r_binary_op(floor_divide)\n\u001b[0;32m   5731\u001b[0m rpow \u001b[38;5;241m=\u001b[39m _make_r_binary_op(\u001b[38;5;28mpow\u001b[39m)\n\u001b[1;32m-> 5734\u001b[0m \u001b[38;5;129;43m@register_decomposition\u001b[39;49m\u001b[43m(\u001b[49m\u001b[43maten\u001b[49m\u001b[38;5;241;43m.\u001b[39;49m\u001b[43mtriu\u001b[49m\u001b[43m)\u001b[49m\n\u001b[0;32m   5735\u001b[0m \u001b[38;5;129;43m@out_wrapper\u001b[39;49m\u001b[43m(\u001b[49m\u001b[43m)\u001b[49m\n\u001b[0;32m   5736\u001b[0m \u001b[38;5;28;43;01mdef\u001b[39;49;00m\u001b[43m \u001b[49m\u001b[38;5;21;43mtriu\u001b[39;49m\u001b[43m(\u001b[49m\u001b[43ma\u001b[49m\u001b[43m:\u001b[49m\u001b[43m \u001b[49m\u001b[43mTensorLikeType\u001b[49m\u001b[43m,\u001b[49m\u001b[43m \u001b[49m\u001b[43mdiagonal\u001b[49m\u001b[43m:\u001b[49m\u001b[43m \u001b[49m\u001b[38;5;28;43mint\u001b[39;49m\u001b[43m \u001b[49m\u001b[38;5;241;43m=\u001b[39;49m\u001b[43m \u001b[49m\u001b[38;5;241;43m0\u001b[39;49m\u001b[43m)\u001b[49m\u001b[43m \u001b[49m\u001b[38;5;241;43m-\u001b[39;49m\u001b[38;5;241;43m>\u001b[39;49m\u001b[43m \u001b[49m\u001b[43mTensorLikeType\u001b[49m\u001b[43m:\u001b[49m\n\u001b[0;32m   5737\u001b[0m \u001b[43m    \u001b[49m\u001b[43mtorch\u001b[49m\u001b[38;5;241;43m.\u001b[39;49m\u001b[43m_check\u001b[49m\u001b[43m(\u001b[49m\n\u001b[0;32m   5738\u001b[0m \u001b[43m        \u001b[49m\u001b[43ma\u001b[49m\u001b[38;5;241;43m.\u001b[39;49m\u001b[43mndim\u001b[49m\u001b[43m \u001b[49m\u001b[38;5;241;43m>\u001b[39;49m\u001b[38;5;241;43m=\u001b[39;49m\u001b[43m \u001b[49m\u001b[38;5;241;43m2\u001b[39;49m\u001b[43m,\u001b[49m\u001b[43m \u001b[49m\u001b[38;5;28;43;01mlambda\u001b[39;49;00m\u001b[43m:\u001b[49m\u001b[43m \u001b[49m\u001b[38;5;124;43m\"\u001b[39;49m\u001b[38;5;124;43mtriu: input tensor must have at least 2 dimensions\u001b[39;49m\u001b[38;5;124;43m\"\u001b[39;49m\n\u001b[0;32m   5739\u001b[0m \u001b[43m    \u001b[49m\u001b[43m)\u001b[49m\n\u001b[0;32m   5740\u001b[0m \u001b[43m    \u001b[49m\u001b[43mh\u001b[49m\u001b[43m,\u001b[49m\u001b[43m \u001b[49m\u001b[43mw\u001b[49m\u001b[43m \u001b[49m\u001b[38;5;241;43m=\u001b[39;49m\u001b[43m \u001b[49m\u001b[43ma\u001b[49m\u001b[38;5;241;43m.\u001b[39;49m\u001b[43mshape\u001b[49m\u001b[43m[\u001b[49m\u001b[38;5;241;43m-\u001b[39;49m\u001b[38;5;241;43m2\u001b[39;49m\u001b[43m:\u001b[49m\u001b[43m]\u001b[49m\n",
      "File \u001b[1;32mc:\\Users\\steph\\AppData\\Local\\Programs\\Python\\Python311\\Lib\\site-packages\\torch\\_decomp\\__init__.py:191\u001b[0m, in \u001b[0;36mregister_decomposition.<locals>.decomposition_decorator\u001b[1;34m(fn)\u001b[0m\n\u001b[0;32m    188\u001b[0m     _add_op_to_registry(registry, op, fn)\n\u001b[0;32m    190\u001b[0m \u001b[38;5;66;03m# To handle allowing multiple aten_ops at once\u001b[39;00m\n\u001b[1;32m--> 191\u001b[0m \u001b[43mpytree\u001b[49m\u001b[38;5;241;43m.\u001b[39;49m\u001b[43mtree_map_\u001b[49m\u001b[43m(\u001b[49m\u001b[43mregister\u001b[49m\u001b[43m,\u001b[49m\u001b[43m \u001b[49m\u001b[43maten_op\u001b[49m\u001b[43m)\u001b[49m\n\u001b[0;32m    192\u001b[0m \u001b[38;5;28;01mreturn\u001b[39;00m orig_fn\n",
      "File \u001b[1;32mc:\\Users\\steph\\AppData\\Local\\Programs\\Python\\Python311\\Lib\\site-packages\\torch\\utils\\_pytree.py:997\u001b[0m, in \u001b[0;36mtree_map_\u001b[1;34m(func, tree, is_leaf, *rests)\u001b[0m\n\u001b[0;32m    995\u001b[0m leaves, treespec \u001b[38;5;241m=\u001b[39m tree_flatten(tree, is_leaf\u001b[38;5;241m=\u001b[39mis_leaf)\n\u001b[0;32m    996\u001b[0m flat_args \u001b[38;5;241m=\u001b[39m [leaves] \u001b[38;5;241m+\u001b[39m [treespec\u001b[38;5;241m.\u001b[39mflatten_up_to(r) \u001b[38;5;28;01mfor\u001b[39;00m r \u001b[38;5;129;01min\u001b[39;00m rests]\n\u001b[1;32m--> 997\u001b[0m \u001b[38;5;28mtuple\u001b[39m(\u001b[38;5;28mmap\u001b[39m(func, \u001b[38;5;241m*\u001b[39mflat_args))  \u001b[38;5;66;03m# consume and exhaust the iterable\u001b[39;00m\n\u001b[0;32m    998\u001b[0m \u001b[38;5;28;01mreturn\u001b[39;00m tree\n",
      "File \u001b[1;32mc:\\Users\\steph\\AppData\\Local\\Programs\\Python\\Python311\\Lib\\site-packages\\torch\\_decomp\\__init__.py:188\u001b[0m, in \u001b[0;36mregister_decomposition.<locals>.decomposition_decorator.<locals>.register\u001b[1;34m(op)\u001b[0m\n\u001b[0;32m    187\u001b[0m \u001b[38;5;28;01mdef\u001b[39;00m \u001b[38;5;21mregister\u001b[39m(op):\n\u001b[1;32m--> 188\u001b[0m     \u001b[43m_add_op_to_registry\u001b[49m\u001b[43m(\u001b[49m\u001b[43mregistry\u001b[49m\u001b[43m,\u001b[49m\u001b[43m \u001b[49m\u001b[43mop\u001b[49m\u001b[43m,\u001b[49m\u001b[43m \u001b[49m\u001b[43mfn\u001b[49m\u001b[43m)\u001b[49m\n",
      "File \u001b[1;32mc:\\Users\\steph\\AppData\\Local\\Programs\\Python\\Python311\\Lib\\site-packages\\torch\\_decomp\\__init__.py:56\u001b[0m, in \u001b[0;36m_add_op_to_registry\u001b[1;34m(registry, op, fn)\u001b[0m\n\u001b[0;32m     54\u001b[0m     \u001b[38;5;28;01massert\u001b[39;00m \u001b[38;5;28misinstance\u001b[39m(op, OpOverloadPacket)\n\u001b[0;32m     55\u001b[0m     \u001b[38;5;28;01mfor\u001b[39;00m ol \u001b[38;5;129;01min\u001b[39;00m op\u001b[38;5;241m.\u001b[39moverloads():\n\u001b[1;32m---> 56\u001b[0m         overloads\u001b[38;5;241m.\u001b[39mappend(\u001b[38;5;28mgetattr\u001b[39m(op, ol))\n\u001b[0;32m     58\u001b[0m \u001b[38;5;28;01mfor\u001b[39;00m op_overload \u001b[38;5;129;01min\u001b[39;00m overloads:\n\u001b[0;32m     59\u001b[0m     \u001b[38;5;28;01mif\u001b[39;00m op_overload \u001b[38;5;129;01min\u001b[39;00m registry:\n",
      "File \u001b[1;32mc:\\Users\\steph\\AppData\\Local\\Programs\\Python\\Python311\\Lib\\site-packages\\torch\\_ops.py:1087\u001b[0m, in \u001b[0;36mOpOverloadPacket.__getattr__\u001b[1;34m(self, key)\u001b[0m\n\u001b[0;32m   1084\u001b[0m op_, op_dk_, tags \u001b[38;5;241m=\u001b[39m op_dk_tags\n\u001b[0;32m   1085\u001b[0m schema \u001b[38;5;241m=\u001b[39m torch\u001b[38;5;241m.\u001b[39m_C\u001b[38;5;241m.\u001b[39m_get_schema(\u001b[38;5;28mself\u001b[39m\u001b[38;5;241m.\u001b[39m_qualified_op_name, use_key)\n\u001b[0;32m   1086\u001b[0m overload \u001b[38;5;241m=\u001b[39m (\n\u001b[1;32m-> 1087\u001b[0m     \u001b[43mOpOverload\u001b[49m\u001b[43m(\u001b[49m\u001b[38;5;28;43mself\u001b[39;49m\u001b[43m,\u001b[49m\u001b[43m \u001b[49m\u001b[43mop_\u001b[49m\u001b[43m,\u001b[49m\u001b[43m \u001b[49m\u001b[43mop_dk_\u001b[49m\u001b[43m,\u001b[49m\u001b[43m \u001b[49m\u001b[43mschema\u001b[49m\u001b[43m,\u001b[49m\u001b[43m \u001b[49m\u001b[43mtags\u001b[49m\u001b[43m)\u001b[49m\n\u001b[0;32m   1088\u001b[0m     \u001b[38;5;28;01mif\u001b[39;00m \u001b[38;5;129;01mnot\u001b[39;00m _has_script_object_arg(schema)\n\u001b[0;32m   1089\u001b[0m     \u001b[38;5;28;01melse\u001b[39;00m TorchBindOpOverload(\u001b[38;5;28mself\u001b[39m, op_, op_dk_, schema, tags)\n\u001b[0;32m   1090\u001b[0m )\n\u001b[0;32m   1091\u001b[0m \u001b[38;5;66;03m# cache the overload object\u001b[39;00m\n\u001b[0;32m   1092\u001b[0m \u001b[38;5;28msetattr\u001b[39m(\u001b[38;5;28mself\u001b[39m, key, overload)\n",
      "File \u001b[1;32mc:\\Users\\steph\\AppData\\Local\\Programs\\Python\\Python311\\Lib\\site-packages\\torch\\_ops.py:679\u001b[0m, in \u001b[0;36mOpOverload.__init__\u001b[1;34m(self, overloadpacket, op, op_dk, schema, tags)\u001b[0m\n\u001b[0;32m    677\u001b[0m \u001b[38;5;28;01mfor\u001b[39;00m a \u001b[38;5;129;01min\u001b[39;00m \u001b[38;5;28mself\u001b[39m\u001b[38;5;241m.\u001b[39m_schema\u001b[38;5;241m.\u001b[39marguments:\n\u001b[0;32m    678\u001b[0m     \u001b[38;5;28;01mif\u001b[39;00m a\u001b[38;5;241m.\u001b[39malias_info \u001b[38;5;129;01mis\u001b[39;00m \u001b[38;5;28;01mNone\u001b[39;00m:\n\u001b[1;32m--> 679\u001b[0m         \u001b[38;5;28;01mcontinue\u001b[39;00m\n\u001b[0;32m    680\u001b[0m     \u001b[38;5;28;01mif\u001b[39;00m is_write \u001b[38;5;129;01mis\u001b[39;00m \u001b[38;5;28;01mNone\u001b[39;00m:\n\u001b[0;32m    681\u001b[0m         is_write \u001b[38;5;241m=\u001b[39m a\u001b[38;5;241m.\u001b[39malias_info\u001b[38;5;241m.\u001b[39mis_write\n",
      "\u001b[1;31mKeyboardInterrupt\u001b[0m: "
     ]
    }
   ],
   "source": [
    "import numpy as np\n",
    "import matplotlib.pyplot as plt\n",
    "import matplotlib\n",
    "cmap = matplotlib.colormaps.get('tab10').colors\n",
    "import torch\n",
    "import torch_geometric as tg\n",
    "from gen_autoencoder_dataset import AutoencoderDataset\n",
    "from torcheval.metrics import BinaryAUROC\n",
    "from tqdm import trange"
   ]
  },
  {
   "cell_type": "code",
   "execution_count": 2,
   "metadata": {},
   "outputs": [
    {
     "name": "stderr",
     "output_type": "stream",
     "text": [
      "100%|██████████| 420/420 [00:10<00:00, 40.03it/s]\n",
      "c:\\Users\\steph\\VS Code\\Python\\Computerpraktikum\\gen_autoencoder_dataset.py:56: FutureWarning: You are using `torch.load` with `weights_only=False` (the current default value), which uses the default pickle module implicitly. It is possible to construct malicious pickle data which will execute arbitrary code during unpickling (See https://github.com/pytorch/pytorch/blob/main/SECURITY.md#untrusted-models for more details). In a future release, the default value for `weights_only` will be flipped to `True`. This limits the functions that could be executed during unpickling. Arbitrary objects will no longer be allowed to be loaded via this mode unless they are explicitly allowlisted by the user via `torch.serialization.add_safe_globals`. We recommend you start setting `weights_only=True` for any use case where you don't have full control of the loaded file. Please open an issue on GitHub for any issues related to this experimental feature.\n",
      "  data = torch.load(os.path.join(self.processed_dir, 'data_{:05d}.pt'.format(idx)))\n"
     ]
    }
   ],
   "source": [
    "n = 30\n",
    "dataset = AutoencoderDataset(root='autoencoder_graphs', n_graphs_per_type=n)\n",
    "dataset.process()\n",
    "train_loader = tg.loader.DataLoader(dataset[:n*12], batch_size=16, shuffle=True)\n",
    "test_loader = tg.loader.DataLoader(dataset[n*12:], batch_size=16, shuffle=True)\n",
    "train_loader.dataset[2]\n",
    "device= 'cuda' if torch.cuda.is_available() else 'cpu'\n",
    "data = dataset[0]"
   ]
  },
  {
   "cell_type": "markdown",
   "metadata": {},
   "source": [
    "## New idea: Do on my own"
   ]
  },
  {
   "cell_type": "code",
   "execution_count": null,
   "metadata": {},
   "outputs": [
    {
     "ename": "NameError",
     "evalue": "name 'dataset' is not defined",
     "output_type": "error",
     "traceback": [
      "\u001b[1;31m---------------------------------------------------------------------------\u001b[0m",
      "\u001b[1;31mNameError\u001b[0m                                 Traceback (most recent call last)",
      "Cell \u001b[1;32mIn[1], line 1\u001b[0m\n\u001b[1;32m----> 1\u001b[0m num_features \u001b[38;5;241m=\u001b[39m \u001b[43mdataset\u001b[49m\u001b[38;5;241m.\u001b[39mnum_features\n\u001b[0;32m      2\u001b[0m alpha \u001b[38;5;241m=\u001b[39m \u001b[38;5;241m0.5\u001b[39m \u001b[38;5;66;03m# weight of the attribute loss\u001b[39;00m\n\u001b[0;32m      5\u001b[0m \u001b[38;5;28;01mclass\u001b[39;00m \u001b[38;5;21;01mdominant\u001b[39;00m(torch\u001b[38;5;241m.\u001b[39mnn\u001b[38;5;241m.\u001b[39mModule):\n",
      "\u001b[1;31mNameError\u001b[0m: name 'dataset' is not defined"
     ]
    }
   ],
   "source": [
    "num_features = dataset.num_features\n",
    "alpha = 0.5 # weight of the attribute loss\n",
    "\n",
    "\n",
    "class dominant(torch.nn.Module):\n",
    "    def __init__(self):\n",
    "        super(dominant, self).__init__()\n",
    "        self.encoder = torch.nn.ModuleList()\n",
    "        self.encoder.append(tg.nn.GCNConv(num_features, 3))\n",
    "        self.encoder.append(tg.nn.GCNConv(3, 3))\n",
    "        self.encoder.append(tg.nn.GCNConv(3, 2))\n",
    "\n",
    "        self.attr_decoder =torch.nn.ModuleList()\n",
    "        self.attr_decoder.append(tg.nn.GCNConv(2, 3))\n",
    "        self.attr_decoder.append(tg.nn.GCNConv(3, 3))\n",
    "        self.attr_decoder.append(tg.nn.GCNConv(3, num_features))\n",
    "\n",
    "        #self.dropout = torch.nn.Dropout(0.2)  \n",
    "    def forward(self, x, edge_index):\n",
    "        z = self.encoder[0](x, edge_index).relu()\n",
    "        for layer in self.encoder[1:]:\n",
    "            z = layer(z, edge_index).relu()\n",
    "        \n",
    "        # decoder\n",
    "        adj_ = torch.sigmoid(z @ z.T) # structure decoder\n",
    "        x_ = self.attr_decoder[0](z, edge_index).relu()\n",
    "        for layer in self.attr_decoder[1:]:\n",
    "            x_ = layer(x_, edge_index).relu()\n",
    "        return x_, adj_\n",
    "\n",
    "\n",
    "\n",
    "model = dominant()\n",
    "model.to(device)\n",
    "print(model)\n",
    "\n",
    "def loss_func(x, x_, adj, adj_):\n",
    "    adj = adj.type(torch.float)\n",
    "    return alpha * torch.nn.functional.mse_loss(x, x_) + (1-alpha) * torch.nn.functional.mse_loss(adj, adj_)\n",
    "\n",
    "optimizer = torch.optim.Adam(model.parameters())"
   ]
  },
  {
   "cell_type": "code",
   "execution_count": 4,
   "metadata": {},
   "outputs": [
    {
     "name": "stdout",
     "output_type": "stream",
     "text": [
      "Initial Test Loss: 0.187\n",
      "Epoch: 001\n",
      "\tTraining Loss: 0.187\n",
      "\tTest Loss: 0.183\n",
      "Epoch: 002\n",
      "\tTraining Loss: 0.183\n",
      "\tTest Loss: 0.177\n",
      "Epoch: 003\n",
      "\tTraining Loss: 0.179\n",
      "\tTest Loss: 0.173\n",
      "Epoch: 004\n",
      "\tTraining Loss: 0.174\n",
      "\tTest Loss: 0.170\n",
      "Epoch: 005\n",
      "\tTraining Loss: 0.171\n",
      "\tTest Loss: 0.169\n",
      "Epoch: 006\n",
      "\tTraining Loss: 0.168\n",
      "\tTest Loss: 0.167\n",
      "Epoch: 007\n",
      "\tTraining Loss: 0.167\n",
      "\tTest Loss: 0.164\n",
      "Epoch: 008\n",
      "\tTraining Loss: 0.165\n",
      "\tTest Loss: 0.164\n",
      "Epoch: 009\n",
      "\tTraining Loss: 0.165\n",
      "\tTest Loss: 0.162\n",
      "Epoch: 010\n",
      "\tTraining Loss: 0.164\n",
      "\tTest Loss: 0.162\n"
     ]
    }
   ],
   "source": [
    "# training:\n",
    "epochs = 10\n",
    "train_loss= []\n",
    "def train(loader):\n",
    "    model.train()\n",
    "    avg_loss = 0\n",
    "    for data in loader:\n",
    "        data = data.to(device)\n",
    "        x_, adj = model.forward(data.x, data.edge_index)\n",
    "\n",
    "        loss = loss_func(data.x, x_, tg.utils.to_dense_adj(data.edge_index, max_num_nodes=len(x_))[0], adj)\n",
    "        avg_loss += loss.item()\n",
    "        optimizer.zero_grad()\n",
    "        loss.backward()\n",
    "        optimizer.step()\n",
    "    return avg_loss / len(loader)\n",
    "def test(loader):\n",
    "    model.eval()\n",
    "    avg_loss = 0\n",
    "    for data in loader:\n",
    "        data = data.to(device)\n",
    "        x_, adj = model.forward(data.x, data.edge_index)\n",
    "        loss = loss_func(data.x, x_, tg.utils.to_dense_adj(data.edge_index, max_num_nodes=len(x_))[0], adj)\n",
    "        avg_loss += loss.item()\n",
    "    return avg_loss / len(loader)\n",
    "\n",
    "print('Initial Test Loss: {:.3f}'.format(test(test_loader)))\n",
    "for epoch in range(1, epochs+1):\n",
    "    loss = train(train_loader)\n",
    "    train_loss.append(loss)\n",
    "    print(f'Epoch: {epoch:03d}')\n",
    "    print('\\tTraining Loss: {:.3f}'.format(loss))\n",
    "    print('\\tTest Loss: {:.3f}'.format(test(test_loader)))"
   ]
  },
  {
   "cell_type": "code",
   "execution_count": 26,
   "metadata": {},
   "outputs": [
    {
     "name": "stderr",
     "output_type": "stream",
     "text": [
      "c:\\Users\\steph\\VS Code\\Python\\Computerpraktikum\\gen_autoencoder_dataset.py:56: FutureWarning: You are using `torch.load` with `weights_only=False` (the current default value), which uses the default pickle module implicitly. It is possible to construct malicious pickle data which will execute arbitrary code during unpickling (See https://github.com/pytorch/pytorch/blob/main/SECURITY.md#untrusted-models for more details). In a future release, the default value for `weights_only` will be flipped to `True`. This limits the functions that could be executed during unpickling. Arbitrary objects will no longer be allowed to be loaded via this mode unless they are explicitly allowlisted by the user via `torch.serialization.add_safe_globals`. We recommend you start setting `weights_only=True` for any use case where you don't have full control of the loaded file. Please open an issue on GitHub for any issues related to this experimental feature.\n",
      "  data = torch.load(os.path.join(self.processed_dir, 'data_{:05d}.pt'.format(idx)))\n"
     ]
    },
    {
     "data": {
      "text/plain": [
       "tensor(0.6460, dtype=torch.float64)"
      ]
     },
     "execution_count": 26,
     "metadata": {},
     "output_type": "execute_result"
    }
   ],
   "source": [
    "metric = BinaryAUROC()\n",
    "model.eval()\n",
    "data = dataset[-9]\n",
    "x, adj = model.forward(data.x, data.edge_index)\n",
    "metric.update(adj.flatten(), tg.utils.to_dense_adj(data.edge_index, max_num_nodes=len(data.x))[0].flatten())\n",
    "metric.compute()\n",
    "# import sklearn\n",
    "# #sklearn.preprocessing.minmax_scale((adj - tg.utils.to_dense_adj(data.edge_index, max_num_nodes=len(data.x))[0]).detach().numpy()**2)\n",
    "# adjtrue = tg.utils.to_dense_adj(data.edge_index, max_num_nodes=len(data.x))[0].flatten()\n",
    "# sklearn.metrics.average_precision_score(adj.detach().numpy().flatten(), adjtrue)"
   ]
  },
  {
   "cell_type": "code",
   "execution_count": null,
   "metadata": {},
   "outputs": [],
   "source": []
  }
 ],
 "metadata": {
  "kernelspec": {
   "display_name": "Python 3",
   "language": "python",
   "name": "python3"
  },
  "language_info": {
   "codemirror_mode": {
    "name": "ipython",
    "version": 3
   },
   "file_extension": ".py",
   "mimetype": "text/x-python",
   "name": "python",
   "nbconvert_exporter": "python",
   "pygments_lexer": "ipython3",
   "version": "3.11.1"
  }
 },
 "nbformat": 4,
 "nbformat_minor": 2
}
