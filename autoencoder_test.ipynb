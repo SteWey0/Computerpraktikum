{
 "cells": [
  {
   "cell_type": "code",
   "execution_count": 1,
   "metadata": {},
   "outputs": [],
   "source": [
    "import numpy as np\n",
    "import matplotlib.pyplot as plt\n",
    "import matplotlib\n",
    "cmap = matplotlib.colormaps.get('tab10').colors\n",
    "import torch\n",
    "import torch_geometric as tg\n",
    "from gen_autoencoder_dataset import AutoencoderDataset\n",
    "from torcheval.metrics import BinaryAUROC\n",
    "from tqdm import trange"
   ]
  },
  {
   "cell_type": "code",
   "execution_count": 2,
   "metadata": {},
   "outputs": [
    {
     "name": "stderr",
     "output_type": "stream",
     "text": [
      "100%|██████████| 420/420 [00:10<00:00, 40.03it/s]\n",
      "c:\\Users\\steph\\VS Code\\Python\\Computerpraktikum\\gen_autoencoder_dataset.py:56: FutureWarning: You are using `torch.load` with `weights_only=False` (the current default value), which uses the default pickle module implicitly. It is possible to construct malicious pickle data which will execute arbitrary code during unpickling (See https://github.com/pytorch/pytorch/blob/main/SECURITY.md#untrusted-models for more details). In a future release, the default value for `weights_only` will be flipped to `True`. This limits the functions that could be executed during unpickling. Arbitrary objects will no longer be allowed to be loaded via this mode unless they are explicitly allowlisted by the user via `torch.serialization.add_safe_globals`. We recommend you start setting `weights_only=True` for any use case where you don't have full control of the loaded file. Please open an issue on GitHub for any issues related to this experimental feature.\n",
      "  data = torch.load(os.path.join(self.processed_dir, 'data_{:05d}.pt'.format(idx)))\n"
     ]
    }
   ],
   "source": [
    "n = 30\n",
    "dataset = AutoencoderDataset(root='autoencoder_graphs', n_graphs_per_type=n)\n",
    "dataset.process()\n",
    "train_loader = tg.loader.DataLoader(dataset[:n*12], batch_size=16, shuffle=True)\n",
    "test_loader = tg.loader.DataLoader(dataset[n*12:], batch_size=16, shuffle=True)\n",
    "train_loader.dataset[2]\n",
    "device= 'cuda' if torch.cuda.is_available() else 'cpu'\n",
    "data = dataset[0]"
   ]
  },
  {
   "cell_type": "markdown",
   "metadata": {},
   "source": [
    "## New idea: Do on my own"
   ]
  },
  {
   "cell_type": "code",
   "execution_count": 3,
   "metadata": {},
   "outputs": [
    {
     "name": "stdout",
     "output_type": "stream",
     "text": [
      "dominant(\n",
      "  (encoder): ModuleList(\n",
      "    (0): GCNConv(4, 3)\n",
      "    (1): GCNConv(3, 3)\n",
      "    (2): GCNConv(3, 2)\n",
      "  )\n",
      "  (attr_decoder): ModuleList(\n",
      "    (0): GCNConv(2, 3)\n",
      "    (1): GCNConv(3, 3)\n",
      "    (2): GCNConv(3, 4)\n",
      "  )\n",
      ")\n"
     ]
    }
   ],
   "source": [
    "num_features = dataset.num_features\n",
    "alpha = 0.5 # weight of the attribute loss\n",
    "\n",
    "\n",
    "class dominant(torch.nn.Module):\n",
    "    def __init__(self):\n",
    "        super(dominant, self).__init__()\n",
    "        self.encoder = torch.nn.ModuleList()\n",
    "        self.encoder.append(tg.nn.GCNConv(num_features, 3))\n",
    "        self.encoder.append(tg.nn.GCNConv(3, 3))\n",
    "        self.encoder.append(tg.nn.GCNConv(3, 2))\n",
    "\n",
    "        self.attr_decoder =torch.nn.ModuleList()\n",
    "        self.attr_decoder.append(tg.nn.GCNConv(2, 3))\n",
    "        self.attr_decoder.append(tg.nn.GCNConv(3, 3))\n",
    "        self.attr_decoder.append(tg.nn.GCNConv(3, num_features))\n",
    "\n",
    "        #self.dropout = torch.nn.Dropout(0.2)  \n",
    "    def forward(self, x, edge_index):\n",
    "        z = self.encoder[0](x, edge_index).relu()\n",
    "        for layer in self.encoder[1:]:\n",
    "            z = layer(z, edge_index).relu()\n",
    "        \n",
    "        # decoder\n",
    "        adj_ = torch.sigmoid(z @ z.T) # structure decoder\n",
    "        x_ = self.attr_decoder[0](z, edge_index).relu()\n",
    "        for layer in self.attr_decoder[1:]:\n",
    "            x_ = layer(x_, edge_index).relu()\n",
    "        return x_, adj_\n",
    "\n",
    "\n",
    "\n",
    "model = dominant()\n",
    "model.to(device)\n",
    "print(model)\n",
    "\n",
    "def loss_func(x, x_, adj, adj_):\n",
    "    adj = adj.type(torch.float)\n",
    "    return alpha * torch.nn.functional.mse_loss(x, x_) + (1-alpha) * torch.nn.functional.mse_loss(adj, adj_)\n",
    "\n",
    "optimizer = torch.optim.Adam(model.parameters())"
   ]
  },
  {
   "cell_type": "code",
   "execution_count": 4,
   "metadata": {},
   "outputs": [
    {
     "name": "stdout",
     "output_type": "stream",
     "text": [
      "Initial Test Loss: 0.187\n",
      "Epoch: 001\n",
      "\tTraining Loss: 0.187\n",
      "\tTest Loss: 0.183\n",
      "Epoch: 002\n",
      "\tTraining Loss: 0.183\n",
      "\tTest Loss: 0.177\n",
      "Epoch: 003\n",
      "\tTraining Loss: 0.179\n",
      "\tTest Loss: 0.173\n",
      "Epoch: 004\n",
      "\tTraining Loss: 0.174\n",
      "\tTest Loss: 0.170\n",
      "Epoch: 005\n",
      "\tTraining Loss: 0.171\n",
      "\tTest Loss: 0.169\n",
      "Epoch: 006\n",
      "\tTraining Loss: 0.168\n",
      "\tTest Loss: 0.167\n",
      "Epoch: 007\n",
      "\tTraining Loss: 0.167\n",
      "\tTest Loss: 0.164\n",
      "Epoch: 008\n",
      "\tTraining Loss: 0.165\n",
      "\tTest Loss: 0.164\n",
      "Epoch: 009\n",
      "\tTraining Loss: 0.165\n",
      "\tTest Loss: 0.162\n",
      "Epoch: 010\n",
      "\tTraining Loss: 0.164\n",
      "\tTest Loss: 0.162\n"
     ]
    }
   ],
   "source": [
    "# training:\n",
    "epochs = 10\n",
    "train_loss= []\n",
    "def train(loader):\n",
    "    model.train()\n",
    "    avg_loss = 0\n",
    "    for data in loader:\n",
    "        data = data.to(device)\n",
    "        x_, adj = model.forward(data.x, data.edge_index)\n",
    "\n",
    "        loss = loss_func(data.x, x_, tg.utils.to_dense_adj(data.edge_index, max_num_nodes=len(x_))[0], adj)\n",
    "        avg_loss += loss.item()\n",
    "        optimizer.zero_grad()\n",
    "        loss.backward()\n",
    "        optimizer.step()\n",
    "    return avg_loss / len(loader)\n",
    "def test(loader):\n",
    "    model.eval()\n",
    "    avg_loss = 0\n",
    "    for data in loader:\n",
    "        data = data.to(device)\n",
    "        x_, adj = model.forward(data.x, data.edge_index)\n",
    "        loss = loss_func(data.x, x_, tg.utils.to_dense_adj(data.edge_index, max_num_nodes=len(x_))[0], adj)\n",
    "        avg_loss += loss.item()\n",
    "    return avg_loss / len(loader)\n",
    "\n",
    "print('Initial Test Loss: {:.3f}'.format(test(test_loader)))\n",
    "for epoch in range(1, epochs+1):\n",
    "    loss = train(train_loader)\n",
    "    train_loss.append(loss)\n",
    "    print(f'Epoch: {epoch:03d}')\n",
    "    print('\\tTraining Loss: {:.3f}'.format(loss))\n",
    "    print('\\tTest Loss: {:.3f}'.format(test(test_loader)))"
   ]
  },
  {
   "cell_type": "code",
   "execution_count": 26,
   "metadata": {},
   "outputs": [
    {
     "name": "stderr",
     "output_type": "stream",
     "text": [
      "c:\\Users\\steph\\VS Code\\Python\\Computerpraktikum\\gen_autoencoder_dataset.py:56: FutureWarning: You are using `torch.load` with `weights_only=False` (the current default value), which uses the default pickle module implicitly. It is possible to construct malicious pickle data which will execute arbitrary code during unpickling (See https://github.com/pytorch/pytorch/blob/main/SECURITY.md#untrusted-models for more details). In a future release, the default value for `weights_only` will be flipped to `True`. This limits the functions that could be executed during unpickling. Arbitrary objects will no longer be allowed to be loaded via this mode unless they are explicitly allowlisted by the user via `torch.serialization.add_safe_globals`. We recommend you start setting `weights_only=True` for any use case where you don't have full control of the loaded file. Please open an issue on GitHub for any issues related to this experimental feature.\n",
      "  data = torch.load(os.path.join(self.processed_dir, 'data_{:05d}.pt'.format(idx)))\n"
     ]
    },
    {
     "data": {
      "text/plain": [
       "tensor(0.6460, dtype=torch.float64)"
      ]
     },
     "execution_count": 26,
     "metadata": {},
     "output_type": "execute_result"
    }
   ],
   "source": [
    "metric = BinaryAUROC()\n",
    "model.eval()\n",
    "data = dataset[-9]\n",
    "x, adj = model.forward(data.x, data.edge_index)\n",
    "metric.update(adj.flatten(), tg.utils.to_dense_adj(data.edge_index, max_num_nodes=len(data.x))[0].flatten())\n",
    "metric.compute()\n",
    "# import sklearn\n",
    "# #sklearn.preprocessing.minmax_scale((adj - tg.utils.to_dense_adj(data.edge_index, max_num_nodes=len(data.x))[0]).detach().numpy()**2)\n",
    "# adjtrue = tg.utils.to_dense_adj(data.edge_index, max_num_nodes=len(data.x))[0].flatten()\n",
    "# sklearn.metrics.average_precision_score(adj.detach().numpy().flatten(), adjtrue)"
   ]
  },
  {
   "cell_type": "code",
   "execution_count": null,
   "metadata": {},
   "outputs": [],
   "source": []
  }
 ],
 "metadata": {
  "kernelspec": {
   "display_name": "Python 3",
   "language": "python",
   "name": "python3"
  },
  "language_info": {
   "codemirror_mode": {
    "name": "ipython",
    "version": 3
   },
   "file_extension": ".py",
   "mimetype": "text/x-python",
   "name": "python",
   "nbconvert_exporter": "python",
   "pygments_lexer": "ipython3",
   "version": "3.11.1"
  }
 },
 "nbformat": 4,
 "nbformat_minor": 2
}
