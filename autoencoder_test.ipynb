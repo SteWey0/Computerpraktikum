{
 "cells": [
  {
   "cell_type": "code",
   "execution_count": 8,
   "metadata": {},
   "outputs": [],
   "source": [
    "import numpy as np\n",
    "import matplotlib.pyplot as plt\n",
    "import matplotlib\n",
    "cmap = matplotlib.colormaps.get('tab10').colors\n",
    "import torch\n",
    "import torch_geometric as tg\n",
    "from gen_autoencoder_dataset import AutoencoderDataset"
   ]
  },
  {
   "cell_type": "code",
   "execution_count": null,
   "metadata": {},
   "outputs": [
    {
     "name": "stderr",
     "output_type": "stream",
     "text": [
      "  0%|          | 0/420 [00:00<?, ?it/s]"
     ]
    },
    {
     "name": "stderr",
     "output_type": "stream",
     "text": [
      "100%|██████████| 420/420 [00:02<00:00, 145.75it/s]\n",
      "c:\\Users\\steph\\VS Code\\Python\\Computerpraktikum\\gen_autoencoder_dataset.py:55: FutureWarning: You are using `torch.load` with `weights_only=False` (the current default value), which uses the default pickle module implicitly. It is possible to construct malicious pickle data which will execute arbitrary code during unpickling (See https://github.com/pytorch/pytorch/blob/main/SECURITY.md#untrusted-models for more details). In a future release, the default value for `weights_only` will be flipped to `True`. This limits the functions that could be executed during unpickling. Arbitrary objects will no longer be allowed to be loaded via this mode unless they are explicitly allowlisted by the user via `torch.serialization.add_safe_globals`. We recommend you start setting `weights_only=True` for any use case where you don't have full control of the loaded file. Please open an issue on GitHub for any issues related to this experimental feature.\n",
      "  data = torch.load(os.path.join(self.processed_dir, 'data_{:05d}.pt'.format(idx)))\n"
     ]
    }
   ],
   "source": [
    "n = 500\n",
    "dataset = AutoencoderDataset(root='autoencoder_graphs', n_graphs_per_type=n)\n",
    "dataset.process()\n",
    "train_loader = tg.loader.DataLoader(dataset[:n*12], batch_size=16, shuffle=True)\n",
    "test_loader = tg.loader.DataLoader(dataset[n*12:], batch_size=16, shuffle=True)\n",
    "train_loader.dataset[2]\n",
    "device= 'cuda' if torch.cuda.is_available() else 'cpu'\n"
   ]
  },
  {
   "cell_type": "markdown",
   "metadata": {},
   "source": [
    "## New idea: Do on my own"
   ]
  },
  {
   "cell_type": "code",
   "execution_count": null,
   "metadata": {},
   "outputs": [
    {
     "name": "stdout",
     "output_type": "stream",
     "text": [
      "dominant(\n",
      "  (encoder): ModuleList(\n",
      "    (0): GCNConv(3, 3)\n",
      "    (1): GCNConv(3, 2)\n",
      "  )\n",
      "  (attr_decoder): ModuleList(\n",
      "    (0): GCNConv(2, 3)\n",
      "    (1): GCNConv(3, 3)\n",
      "  )\n",
      ")\n"
     ]
    }
   ],
   "source": [
    "num_features = dataset.num_features\n",
    "alpha = 0. # weight of the attribute loss\n",
    "\n",
    "\n",
    "class dominant(torch.nn.Module):\n",
    "    def __init__(self):\n",
    "        super(dominant, self).__init__()\n",
    "        self.encoder = torch.nn.ModuleList()\n",
    "        self.encoder.append(tg.nn.GCNConv(num_features, 3))\n",
    "        self.encoder.append(tg.nn.GCNConv(3, 2))\n",
    "\n",
    "\n",
    "        self.attr_decoder =torch.nn.ModuleList()\n",
    "        self.attr_decoder.append(tg.nn.GCNConv(2, 3))\n",
    "        self.attr_decoder.append(tg.nn.GCNConv(3, num_features))\n",
    "\n",
    "        #self.dropout = torch.nn.Dropout(0.2)  \n",
    "    def forward(self, x, edge_index):\n",
    "        # encoder\n",
    "        #print(x.shape, edge_index.shape)\n",
    "        z = self.encoder[0](x, edge_index).relu()\n",
    "        #z = self.dropout(z)\n",
    "        z = self.encoder[1](z, edge_index).relu()\n",
    "        # decoder\n",
    "        adj = torch.sigmoid(z @ z.T) # structure decoder\n",
    "\n",
    "        x_ = self.attr_decoder[0](z, edge_index).relu()\n",
    "        #x_ = self.dropout(x_)\n",
    "        x_ = self.attr_decoder[1](x_, edge_index).relu() # attribute decoder\n",
    "        return x_, adj\n",
    "\n",
    "\n",
    "\n",
    "model = dominant()\n",
    "model.to(device)\n",
    "print(model)\n",
    "\n",
    "def loss_func(x, x_, adj, adj_):\n",
    "    # print(f\"x shape: {x.shape}, x_ shape: {x_.shape}\")\n",
    "    # print(f\"edge_index shape: {edge_index.shape}, adj shape: {adj.shape}\")\n",
    "    #edge_index = edge_index.type(torch.float)\n",
    "    adj = adj.type(torch.float)\n",
    "    return alpha * torch.nn.functional.mse_loss(x, x_) + (1-alpha) * torch.nn.functional.mse_loss(adj, adj_)\n",
    "\n",
    "optimizer = torch.optim.Adam(model.parameters())"
   ]
  },
  {
   "cell_type": "code",
   "execution_count": null,
   "metadata": {},
   "outputs": [
    {
     "name": "stdout",
     "output_type": "stream",
     "text": [
      "Epoch: 001, Training Loss: 8.4101\n",
      "Epoch: 002, Training Loss: 8.3885\n",
      "Epoch: 003, Training Loss: 8.3552\n",
      "Epoch: 004, Training Loss: 8.1213\n",
      "Epoch: 005, Training Loss: 8.0574\n",
      "Epoch: 006, Training Loss: 7.7655\n",
      "Epoch: 007, Training Loss: 7.3382\n",
      "Epoch: 008, Training Loss: 7.1533\n",
      "Epoch: 009, Training Loss: 6.8179\n",
      "Epoch: 010, Training Loss: 6.7372\n"
     ]
    }
   ],
   "source": [
    "# training:\n",
    "epochs = 20\n",
    "train_loss= []\n",
    "def train(loader):\n",
    "    model.train()\n",
    "    avg_loss = 0\n",
    "    for data in loader:\n",
    "        data = data.to(device)\n",
    "        x_, adj = model.forward(data.x, data.edge_index)\n",
    "\n",
    "        loss = loss_func(data.x, x_, tg.utils.to_dense_adj(data.edge_index, max_num_nodes=len(x_))[0], adj)\n",
    "        avg_loss += loss.item()\n",
    "        optimizer.zero_grad()\n",
    "        loss.backward()\n",
    "        optimizer.step()\n",
    "    return avg_loss / len(loader)\n",
    "for epoch in range(1, epochs+1):\n",
    "    loss = train(train_loader)\n",
    "    train_loss.append(loss)\n",
    "    print('Epoch: {:03d}, Training Loss: {:.4f}'.format(epoch, loss))"
   ]
  },
  {
   "cell_type": "code",
   "execution_count": 12,
   "metadata": {},
   "outputs": [
    {
     "name": "stdout",
     "output_type": "stream",
     "text": [
      "4\n"
     ]
    },
    {
     "data": {
      "text/plain": [
       "tensor([[0., 1., 0., 0.],\n",
       "        [1., 0., 0., 0.],\n",
       "        [0., 0., 0., 0.],\n",
       "        [0., 0., 0., 0.]])"
      ]
     },
     "execution_count": 12,
     "metadata": {},
     "output_type": "execute_result"
    },
    {
     "data": {
      "image/png": "[encoded data removed]",
      "text/plain": [
       "<Figure size 640x480 with 1 Axes>"
      ]
     },
     "metadata": {},
     "output_type": "display_data"
    }
   ],
   "source": [
    "x = np.array([[0,0], [1,0], [0,1], [1,1]])\n",
    "print(len(x))\n",
    "edge_index = np.array([[0,1], [1,0]], dtype=np.int64)\n",
    "fig, ax = plt.subplots()\n",
    "ax.scatter(x[:,0], x[:,1])\n",
    "for i in range(edge_index.shape[1]):\n",
    "    ax.plot(x[edge_index[:,i],0], x[edge_index[:,i],1], c=cmap[i])\n",
    "tg.utils.to_dense_adj(torch.tensor(edge_index), max_num_nodes=4)[0]"
   ]
  },
  {
   "cell_type": "code",
   "execution_count": null,
   "metadata": {},
   "outputs": [],
   "source": []
  }
 ],
 "metadata": {
  "kernelspec": {
   "display_name": "Python 3",
   "language": "python",
   "name": "python3"
  },
  "language_info": {
   "codemirror_mode": {
    "name": "ipython",
    "version": 3
   },
   "file_extension": ".py",
   "mimetype": "text/x-python",
   "name": "python",
   "nbconvert_exporter": "python",
   "pygments_lexer": "ipython3",
   "version": "3.11.1"
  }
 },
 "nbformat": 4,
 "nbformat_minor": 2
}
