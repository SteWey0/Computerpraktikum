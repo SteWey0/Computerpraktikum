{
 "cells": [
  {
   "cell_type": "code",
   "execution_count": 9,
   "metadata": {},
   "outputs": [],
   "source": [
    "import numpy\n",
    "import matplotlib.pyplot as plt\n",
    "import torch\n",
    "import torch_geometric as tg\n",
    "from gen_dataset import PlaneGraphDataset\n",
    "from tqdm import trange"
   ]
  },
  {
   "cell_type": "code",
   "execution_count": 6,
   "metadata": {},
   "outputs": [
    {
     "name": "stderr",
     "output_type": "stream",
     "text": [
      "100%|██████████| 900/900 [00:03<00:00, 261.10it/s]\n",
      "c:\\Users\\steph\\OneDrive\\Dokumente\\VS Code\\Python\\Computerpraktikum\\gen_dataset.py:55: FutureWarning: You are using `torch.load` with `weights_only=False` (the current default value), which uses the default pickle module implicitly. It is possible to construct malicious pickle data which will execute arbitrary code during unpickling (See https://github.com/pytorch/pytorch/blob/main/SECURITY.md#untrusted-models for more details). In a future release, the default value for `weights_only` will be flipped to `True`. This limits the functions that could be executed during unpickling. Arbitrary objects will no longer be allowed to be loaded via this mode unless they are explicitly allowlisted by the user via `torch.serialization.add_safe_globals`. We recommend you start setting `weights_only=True` for any use case where you don't have full control of the loaded file. Please open an issue on GitHub for any issues related to this experimental feature.\n",
      "  data = torch.load(os.path.join(self.processed_dir, 'data_{:04d}.pt'.format(idx)))\n"
     ]
    },
    {
     "data": {
      "text/plain": [
       "tensor([[ 0,  1,  0,  ..., 98, 98, 99],\n",
       "        [ 1,  0, 10,  ..., 97, 99, 98]])"
      ]
     },
     "execution_count": 6,
     "metadata": {},
     "output_type": "execute_result"
    }
   ],
   "source": [
    "dataset = PlaneGraphDataset(root='plane_graphs', n_graphs_per_type=300)\n",
    "dataset.process()\n",
    "train_loader = tg.loader.DataLoader(dataset[:800], batch_size=16, shuffle=True)\n",
    "test_loader = tg.loader.DataLoader(dataset[800:], batch_size=16, shuffle=True)\n",
    "dataset[110].edge_index"
   ]
  },
  {
   "cell_type": "code",
   "execution_count": 7,
   "metadata": {},
   "outputs": [
    {
     "name": "stdout",
     "output_type": "stream",
     "text": [
      "GCN(\n",
      "  (conv1): GCNConv(2, 4)\n",
      "  (conv2): GCNConv(4, 8)\n",
      "  (classifier): Linear(in_features=8, out_features=3, bias=True)\n",
      ")\n",
      "GINEConv(\n",
      "  (conv1): GINEConv(nn=Linear(in_features=2, out_features=4, bias=True))\n",
      "  (conv2): GINEConv(nn=Linear(in_features=4, out_features=8, bias=True))\n",
      "  (classifier): Linear(in_features=8, out_features=3, bias=True)\n",
      ")\n"
     ]
    }
   ],
   "source": [
    "class GCN(torch.nn.Module):\n",
    "    def __init__(self):\n",
    "        super().__init__()\n",
    "        torch.manual_seed(12345)\n",
    "        self.conv1 = tg.nn.GCNConv(dataset.num_features, 4)\n",
    "        self.conv2 = tg.nn.GCNConv(4,8)\n",
    "        self.classifier = torch.nn.Linear(8, dataset.num_classes)\n",
    "    def forward(self, x, edge_index, batch):\n",
    "        x = torch.tanh(self.conv1(x, edge_index))\n",
    "        x = self.conv2(x, edge_index)\n",
    "    \n",
    "        x = tg.nn.global_mean_pool(x, batch)\n",
    "        out = torch.nn.functional.softmax(self.classifier(x), dim=1)\n",
    "        \n",
    "        return out\n",
    "model1 = GCN()\n",
    "print(model1)\n",
    "\n",
    "optimizer1 = torch.optim.Adam(model1.parameters(), lr=0.01)\n",
    "criterion1 = torch.nn.CrossEntropyLoss()\n",
    "\n",
    "def train1(loader):\n",
    "    model1.train()\n",
    "    for data in loader:\n",
    "        out = model1(data.x, data.edge_index, data.batch)# Perform a single forward pass.\n",
    "        loss = criterion1(out, data.y)  # Compute the loss.\n",
    "        #print(loss)\n",
    "        loss.backward()  # Derive gradients.\n",
    "        optimizer1.step()  # Update parameters based on gradients.\n",
    "        optimizer1.zero_grad() # Reset grads.\n",
    "def test1(loader):\n",
    "    model1.eval()\n",
    "    correct = 0\n",
    "    for data in loader:\n",
    "        out = model1(data.x, data.edge_index, data.batch)\n",
    "        pred = out.argmax(dim=1)  # Use the class with highest probability.\n",
    "        true = data.y.argmax(dim=1)\n",
    "        #print(true)\n",
    "        correct += int((true == pred).sum())\n",
    "    return correct / len(loader.dataset)\n",
    "\n",
    "class GINEConv(torch.nn.Module):\n",
    "    def __init__(self):\n",
    "        super().__init__()\n",
    "        torch.manual_seed(12345)\n",
    "        self.conv1 = tg.nn.GINEConv(torch.nn.Linear(dataset.num_features, 4), edge_dim=2)\n",
    "        self.conv2 = tg.nn.GINEConv(torch.nn.Linear(4, 8), edge_dim=2)\n",
    "        self.classifier = torch.nn.Linear(8, dataset.num_classes)\n",
    "    def forward(self, x, edge_index, edge_attr, batch):\n",
    "        x = torch.tanh(self.conv1(x, edge_index, edge_attr))\n",
    "        x = torch.tanh(self.conv2(x, edge_index, edge_attr))\n",
    "        x = tg.nn.global_mean_pool(x, batch)\n",
    "        out = torch.nn.functional.softmax(self.classifier(x), dim=1)\n",
    "        \n",
    "        return out\n",
    "model2 = GINEConv()\n",
    "print(model2)\n",
    "\n",
    "optimizer2 = torch.optim.Adam(model2.parameters(), lr=0.01)\n",
    "criterion2 = torch.nn.CrossEntropyLoss()\n",
    "\n",
    "def train2(loader):\n",
    "    model2.train()\n",
    "    for data in loader:\n",
    "        out = model2(data.x, data.edge_index, data.edge_attr, data.batch)# Perform a single forward pass.\n",
    "        loss = criterion2(out, data.y)  # Compute the loss.\n",
    "        #print(loss)\n",
    "        loss.backward()  # Derive gradients.\n",
    "        optimizer2.step()  # Update parameters based on gradients.\n",
    "        optimizer2.zero_grad() # Reset grads.\n",
    "def test2(loader):\n",
    "    model2.eval()\n",
    "    correct = 0\n",
    "    for data in loader:\n",
    "        out = model2(data.x, data.edge_index, data.edge_attr, data.batch)\n",
    "        pred = out.argmax(dim=1)  # Use the class with highest probability.\n",
    "        true = data.y.argmax(dim=1)\n",
    "        #print(true)\n",
    "        correct += int((true == pred).sum())\n",
    "    return correct / len(loader.dataset)"
   ]
  },
  {
   "cell_type": "code",
   "execution_count": 8,
   "metadata": {},
   "outputs": [
    {
     "name": "stdout",
     "output_type": "stream",
     "text": [
      "Epoch: 001, Train Accuracy: 0.57, Test Accuracy: 0.55\n",
      "Epoch: 002, Train Accuracy: 0.89, Test Accuracy: 0.85\n",
      "Epoch: 003, Train Accuracy: 0.89, Test Accuracy: 0.86\n",
      "Epoch: 004, Train Accuracy: 0.88, Test Accuracy: 0.86\n",
      "Epoch: 005, Train Accuracy: 0.89, Test Accuracy: 0.88\n",
      "Epoch: 006, Train Accuracy: 0.90, Test Accuracy: 0.85\n",
      "Epoch: 007, Train Accuracy: 0.89, Test Accuracy: 0.86\n",
      "Epoch: 008, Train Accuracy: 0.89, Test Accuracy: 0.88\n",
      "Epoch: 009, Train Accuracy: 0.90, Test Accuracy: 0.87\n",
      "Epoch: 010, Train Accuracy: 0.89, Test Accuracy: 0.88\n",
      "Epoch: 011, Train Accuracy: 0.90, Test Accuracy: 0.88\n",
      "Epoch: 012, Train Accuracy: 0.90, Test Accuracy: 0.86\n",
      "Epoch: 013, Train Accuracy: 0.87, Test Accuracy: 0.88\n",
      "Epoch: 014, Train Accuracy: 0.90, Test Accuracy: 0.86\n",
      "Epoch: 015, Train Accuracy: 0.90, Test Accuracy: 0.86\n",
      "Epoch: 016, Train Accuracy: 0.88, Test Accuracy: 0.86\n",
      "Epoch: 017, Train Accuracy: 0.90, Test Accuracy: 0.87\n",
      "Epoch: 018, Train Accuracy: 0.90, Test Accuracy: 0.87\n",
      "Epoch: 019, Train Accuracy: 0.89, Test Accuracy: 0.86\n",
      "Epoch: 001, Train Accuracy: 0.79, Test Accuracy: 0.77\n",
      "Epoch: 002, Train Accuracy: 0.90, Test Accuracy: 0.86\n",
      "Epoch: 003, Train Accuracy: 0.90, Test Accuracy: 0.85\n",
      "Epoch: 004, Train Accuracy: 0.90, Test Accuracy: 0.86\n",
      "Epoch: 005, Train Accuracy: 0.88, Test Accuracy: 0.89\n",
      "Epoch: 006, Train Accuracy: 0.90, Test Accuracy: 0.85\n",
      "Epoch: 007, Train Accuracy: 0.90, Test Accuracy: 0.86\n",
      "Epoch: 008, Train Accuracy: 0.83, Test Accuracy: 0.79\n",
      "Epoch: 009, Train Accuracy: 0.89, Test Accuracy: 0.86\n",
      "Epoch: 010, Train Accuracy: 0.88, Test Accuracy: 0.88\n",
      "Epoch: 011, Train Accuracy: 0.90, Test Accuracy: 0.88\n",
      "Epoch: 012, Train Accuracy: 0.87, Test Accuracy: 0.84\n",
      "Epoch: 013, Train Accuracy: 0.90, Test Accuracy: 0.85\n",
      "Epoch: 014, Train Accuracy: 0.81, Test Accuracy: 0.79\n",
      "Epoch: 015, Train Accuracy: 0.85, Test Accuracy: 0.81\n",
      "Epoch: 016, Train Accuracy: 0.89, Test Accuracy: 0.85\n",
      "Epoch: 017, Train Accuracy: 0.85, Test Accuracy: 0.82\n",
      "Epoch: 018, Train Accuracy: 0.90, Test Accuracy: 0.88\n",
      "Epoch: 019, Train Accuracy: 0.89, Test Accuracy: 0.86\n"
     ]
    },
    {
     "data": {
      "image/png": "[encoded data removed]",
      "text/plain": [
       "<Figure size 640x480 with 1 Axes>"
      ]
     },
     "metadata": {},
     "output_type": "display_data"
    }
   ],
   "source": [
    "accs = []\n",
    "acc = test1(test_loader)\n",
    "accs.append(acc)\n",
    "for epoch in trange(1, 20):\n",
    "    train1(train_loader)\n",
    "    train_acc = test1(train_loader)\n",
    "    test_acc = test1(test_loader)\n",
    "    accs.append(test_acc)\n",
    "    if epoch <5:\n",
    "        print(f'Epoch: {epoch:03d}, Train Accuracy: {train_acc:.2f}, Test Accuracy: {test_acc:.2f}')\n",
    "plt.plot(accs, label= 'GCNConv')\n",
    "\n",
    "accs = []\n",
    "acc = test2(test_loader)\n",
    "accs.append(acc)\n",
    "for epoch in trange(1, 20):\n",
    "    train2(train_loader)\n",
    "    train_acc = test2(train_loader)\n",
    "    test_acc = test2(test_loader)\n",
    "    accs.append(test_acc)\n",
    "    if epoch <5:\n",
    "        print(f'Epoch: {epoch:03d}, Train Accuracy: {train_acc:.2f}, Test Accuracy: {test_acc:.2f}')\n",
    "plt.plot(accs, label='GINEConv')\n",
    "plt.legend()\n",
    "plt.show()\n"
   ]
  },
  {
   "cell_type": "code",
   "execution_count": null,
   "metadata": {},
   "outputs": [],
   "source": []
  },
  {
   "cell_type": "code",
   "execution_count": null,
   "metadata": {},
   "outputs": [],
   "source": []
  }
 ],
 "metadata": {
  "kernelspec": {
   "display_name": "Python 3",
   "language": "python",
   "name": "python3"
  },
  "language_info": {
   "codemirror_mode": {
    "name": "ipython",
    "version": 3
   },
   "file_extension": ".py",
   "mimetype": "text/x-python",
   "name": "python",
   "nbconvert_exporter": "python",
   "pygments_lexer": "ipython3",
   "version": "3.11.1"
  }
 },
 "nbformat": 4,
 "nbformat_minor": 2
}
