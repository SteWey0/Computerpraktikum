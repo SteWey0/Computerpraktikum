{
 "cells": [
  {
   "cell_type": "code",
   "execution_count": 1,
   "metadata": {},
   "outputs": [],
   "source": [
    "import numpy as np\n",
    "rng = np.random.default_rng()\n",
    "import matplotlib.pyplot as plt\n",
    "import matplotlib\n",
    "%matplotlib widget\n",
    "cmap = matplotlib.colormaps.get('tab10').colors\n",
    "import gen_graph as gg"
   ]
  },
  {
   "cell_type": "code",
   "execution_count": 2,
   "metadata": {},
   "outputs": [],
   "source": [
    "# LEGACY\n",
    "\n",
    "# def hexagon_correction(nodes, connections, size):\n",
    "#     removed_node_indices = []\n",
    "#     skip_index = -1\n",
    "#     for i in range(size[0]):\n",
    "#         # Go through the rows\n",
    "#         skip_index +=1\n",
    "#         for j in range(size[1]):\n",
    "#             # Go through the nodes in the row and remove every third, starting from a different index\n",
    "#             if (j-skip_index)%3 == 0:\n",
    "#                 removed_node_indices.append(i*size[1]+j)    \n",
    "#     nodes = np.delete(nodes, removed_node_indices, axis=0)\n",
    "#     connections = [edge for edge in connections if edge[0] not in removed_node_indices and edge[1] not in removed_node_indices]\n",
    "#     connections = np.array(connections)\n",
    "#     print(removed_node_indices)\n",
    "#     for i in removed_node_indices:\n",
    "#         connections[i-1:] -= 1\n",
    "        \n",
    "#     return nodes, connections\n",
    "    "
   ]
  },
  {
   "cell_type": "code",
   "execution_count": 3,
   "metadata": {},
   "outputs": [],
   "source": [
    "def plot_graph(nodes, connections):\n",
    "    '''\n",
    "    Function that plots the graph. It takes the following arguments:\n",
    "    - nodes (arr): The array of nodes\n",
    "    - connections (arr): The array of connections\n",
    "    '''\n",
    "    _,ax = plt.subplots()\n",
    "    ax.plot(nodes[:,0], nodes[:,1], 'ro')\n",
    "    for edge in connections.T:\n",
    "        ax.plot([nodes[edge[0]][0], nodes[edge[1]][0]], [nodes[edge[0]][1], nodes[edge[1]][1]], 'g-')\n",
    "    ax.set_aspect('equal')"
   ]
  },
  {
   "cell_type": "code",
   "execution_count": 4,
   "metadata": {},
   "outputs": [],
   "source": [
    "plt.close()"
   ]
  },
  {
   "cell_type": "code",
   "execution_count": 14,
   "metadata": {},
   "outputs": [],
   "source": [
    "# params\n",
    "size = [10,10]\n",
    "n_graphs = 100\n",
    "# Generate square lattices\n",
    "scale = 1\n",
    "angle = 90\n",
    "e1, e2 = gg.get_lattice_vectors(scale, angle, 1)\n",
    "nodes = [gg.get_nodes(e1,e2, size) for i in range(n_graphs)]\n",
    "nodes = gg.add_noise(np.array(nodes))\n",
    "connections = [gg.get_connections(nodes, size) for i in range(n_graphs)]\n",
    "connections = np.array(connections)\n",
    "nn = [gg.get_number_nn(nodes[i], connections[i]) for i in range(n_graphs)]\n",
    "nn = np.array(nn)\n",
    "np.savez(f'graphs/sq.npz', attr=nn, coords=nodes, edge_attr=[], edges=connections)\n",
    "    \n",
    "# Generate rectangular lattices\n",
    "scale = 1\n",
    "angle = 90\n",
    "e1, e2 = gg.get_lattice_vectors(scale, angle, 1)\n",
    "nodes = [gg.get_nodes(e1,e2, size) for i in range(n_graphs)]\n",
    "nodes = gg.add_noise(np.array(nodes))\n",
    "connections = [gg.get_connections(nodes, size) for i in range(n_graphs)]\n",
    "connections = np.array(connections)\n",
    "nn = [gg.get_number_nn(nodes[i], connections[i]) for i in range(n_graphs)]\n",
    "nn = np.array(nn)\n",
    "np.savez(f'graphs/rect.npz', attr=nn, coords=nodes, edge_attr=[], edges=connections)\n",
    "\n",
    "# Generate hexagonal lattices\n",
    "scale = 1\n",
    "angle = 120\n",
    "e1, e2 = gg.get_lattice_vectors(scale, angle, 1)\n",
    "nodes = [gg.get_nodes(e1,e2, size) for i in range(n_graphs)]\n",
    "nodes = gg.add_noise(np.array(nodes))\n",
    "connections = [gg.get_hex_connections(nodes, size) for i in range(n_graphs)]\n",
    "connections = np.array(connections)\n",
    "nn = [gg.get_number_nn(nodes[i], connections[i]) for i in range(n_graphs)]\n",
    "nn = np.array(nn)\n",
    "np.savez(f'graphs/hex.npz', attr=nn, coords=nodes, edge_attr=[], edges=connections)\n"
   ]
  }
 ],
 "metadata": {
  "kernelspec": {
   "display_name": "Python 3",
   "language": "python",
   "name": "python3"
  },
  "language_info": {
   "codemirror_mode": {
    "name": "ipython",
    "version": 3
   },
   "file_extension": ".py",
   "mimetype": "text/x-python",
   "name": "python",
   "nbconvert_exporter": "python",
   "pygments_lexer": "ipython3",
   "version": "3.11.1"
  }
 },
 "nbformat": 4,
 "nbformat_minor": 2
}
